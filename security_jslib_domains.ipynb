{
 "cells": [
  {
   "cell_type": "code",
   "execution_count": 1,
   "id": "9fc955d7-487b-44bf-941d-74ac2e61981b",
   "metadata": {},
   "outputs": [],
   "source": [
    "import os\n",
    "import re\n",
    "import json\n",
    "\n",
    "from urllib.parse import urlparse"
   ]
  },
  {
   "cell_type": "code",
   "execution_count": 2,
   "id": "44262022-62ce-4b9f-b1d9-98f0a1b17063",
   "metadata": {},
   "outputs": [
    {
     "name": "stdout",
     "output_type": "stream",
     "text": [
      "6135\n"
     ]
    }
   ],
   "source": [
    "count = 0\n",
    "for dir in os.listdir(\"packages/packages\"):\n",
    "    count += len(os.listdir(f\"packages/packages/{dir}\"))\n",
    "print(count)"
   ]
  },
  {
   "cell_type": "code",
   "execution_count": 3,
   "id": "aed30934-9449-425f-b8d7-b166cea478d9",
   "metadata": {},
   "outputs": [],
   "source": [
    "search_keys = set([\"security\", \"fingerprinting\", \"privacy\", \"sha\"])"
   ]
  },
  {
   "cell_type": "code",
   "execution_count": 5,
   "id": "e746d6d4-4e17-4082-be70-22829580c1d4",
   "metadata": {},
   "outputs": [],
   "source": [
    "matched = []\n",
    "pkg_path = \"packages/packages\"\n",
    "\n",
    "for dir in os.listdir(pkg_path):\n",
    "    for file in os.listdir(f\"{pkg_path}/{dir}\"):\n",
    "        fp = open(f\"{pkg_path}/{dir}/{file}\")\n",
    "        json_obj = json.load(fp)\n",
    "        keywords = set(json_obj[\"keywords\"])\n",
    "        \n",
    "        if keywords.intersection(search_keys):\n",
    "            matched.append(\n",
    "                {\n",
    "                    \"name\": json_obj[\"name\"],\n",
    "                    \"filename\": json_obj[\"filename\"]\n",
    "                }\n",
    "            )"
   ]
  },
  {
   "cell_type": "code",
   "execution_count": 6,
   "id": "e90e9d08-0b11-49b1-8f51-776ba11b27c9",
   "metadata": {},
   "outputs": [
    {
     "data": {
      "text/plain": [
       "[{'name': 'angular-recaptcha', 'filename': 'angular-recaptcha.min.js'},\n",
       " {'name': 'asmCrypto', 'filename': 'asmcrypto.all.es5.min.js'},\n",
       " {'name': 'crypto-js', 'filename': 'crypto-js.min.js'},\n",
       " {'name': 'dompurify', 'filename': 'purify.min.js'},\n",
       " {'name': 'fingerprintjs2', 'filename': 'fingerprint2.min.js'},\n",
       " {'name': 'jquery.complexify.js', 'filename': 'jquery.complexify.min.js'},\n",
       " {'name': 'jquery.hashcash.io', 'filename': 'jquery.hashcash.io.min.js'},\n",
       " {'name': 'jquery.socialshareprivacy',\n",
       "  'filename': 'jquery.socialshareprivacy.min.js'},\n",
       " {'name': 'js-sha1', 'filename': 'sha1.min.js'},\n",
       " {'name': 'js-sha256', 'filename': 'sha256.min.js'},\n",
       " {'name': 'js-sha512', 'filename': 'sha512.min.js'},\n",
       " {'name': 'js-xss', 'filename': 'xss.min.js'},\n",
       " {'name': 'oauth-io', 'filename': 'oauth.min.js'},\n",
       " {'name': 'zxcvbn', 'filename': 'zxcvbn.js'}]"
      ]
     },
     "execution_count": 6,
     "metadata": {},
     "output_type": "execute_result"
    }
   ],
   "source": [
    "matched"
   ]
  },
  {
   "cell_type": "code",
   "execution_count": 7,
   "id": "4a61b308-dd37-45e9-b980-921584be69ce",
   "metadata": {},
   "outputs": [],
   "source": [
    "from datasets import load_dataset"
   ]
  },
  {
   "cell_type": "code",
   "execution_count": 8,
   "id": "e5176578-52e4-4f3e-9720-6cbabe61a34c",
   "metadata": {
    "scrolled": true
   },
   "outputs": [
    {
     "data": {
      "application/vnd.jupyter.widget-view+json": {
       "model_id": "6f14f7fdac7348169e2aac974d24fa69",
       "version_major": 2,
       "version_minor": 0
      },
      "text/plain": [
       "Resolving data files:   0%|          | 0/58 [00:00<?, ?it/s]"
      ]
     },
     "metadata": {},
     "output_type": "display_data"
    },
    {
     "data": {
      "application/vnd.jupyter.widget-view+json": {
       "model_id": "15db13e7495345a6ae16297c9ce7fd4d",
       "version_major": 2,
       "version_minor": 0
      },
      "text/plain": [
       "Loading dataset shards:   0%|          | 0/57 [00:00<?, ?it/s]"
      ]
     },
     "metadata": {},
     "output_type": "display_data"
    }
   ],
   "source": [
    "ds = load_dataset(\"big-banyan-tree/BBT_CommonCrawl_2024\", data_dir=\"script_extraction\", split=\"train\")"
   ]
  },
  {
   "cell_type": "code",
   "execution_count": 9,
   "id": "b94f4b95-a9be-4788-a33e-636a70caa5e2",
   "metadata": {},
   "outputs": [],
   "source": [
    "sds = ds.select(range(len(ds) // 5))"
   ]
  },
  {
   "cell_type": "code",
   "execution_count": 10,
   "id": "406e96d6-a04e-43b0-ad63-97a3e0f080a2",
   "metadata": {},
   "outputs": [],
   "source": [
    "del ds"
   ]
  },
  {
   "cell_type": "code",
   "execution_count": 11,
   "id": "1799d5f7-ba83-4ebf-ad8c-191dd27d2ce7",
   "metadata": {},
   "outputs": [
    {
     "data": {
      "text/plain": [
       "4631344"
      ]
     },
     "execution_count": 11,
     "metadata": {},
     "output_type": "execute_result"
    }
   ],
   "source": [
    "len(sds)"
   ]
  },
  {
   "cell_type": "code",
   "execution_count": 12,
   "id": "4d7bf54d-5be7-4656-8d63-77f74b4521a4",
   "metadata": {},
   "outputs": [],
   "source": [
    "regex = re.compile(r\"/?(?:js\\.)?([^/?]+\\.js)\")"
   ]
  },
  {
   "cell_type": "code",
   "execution_count": 13,
   "id": "9868d5b1-ff98-4658-9770-c78e4d8aaae7",
   "metadata": {},
   "outputs": [],
   "source": [
    "def attrs_to_libs(row):\n",
    "    \"\"\"Parse list of src attrs to have JS libs ONLY.\"\"\"\n",
    "    splits = row[\"script_src_attrs\"].split('|')\n",
    "    for i, s in enumerate(splits):\n",
    "        m = regex.search(s)\n",
    "        if m:\n",
    "            splits[i] = m.group(1)\n",
    "        else:\n",
    "            splits[i] = None\n",
    "            continue\n",
    "        splits[i] = re.sub(r\"\\.min\\.\", '.', splits[i])\n",
    "            \n",
    "    return {\"js_lib\": splits}"
   ]
  },
  {
   "cell_type": "code",
   "execution_count": 14,
   "id": "4cf821ee-2c21-4382-bee5-90d46092f2d8",
   "metadata": {},
   "outputs": [],
   "source": [
    "def extract_domain(row):\n",
    "    parsed_url = urlparse(row[\"host\"])\n",
    "    return {\"domain\": parsed_url.netloc}"
   ]
  },
  {
   "cell_type": "code",
   "execution_count": 15,
   "id": "abc68d51-4389-485a-8b66-157d1f1ceb24",
   "metadata": {},
   "outputs": [],
   "source": [
    "\n",
    "    # for i, attrs in enumerate(src_attrs):\n",
    "    #     splits = attrs.split('|')\n",
    "    #     for j, s in enumerate(splits):\n",
    "    #         m = regex.search(s)\n",
    "    #         if m:\n",
    "    #             splits[j] = m.group(1)\n",
    "    #         else:\n",
    "    #             splits[j] = None\n",
    "    #             continue\n",
    "    #         splits[j] = re.sub(r\"\\.min\\.\", '.', splits[j])\n",
    "            \n",
    "    # return splits"
   ]
  },
  {
   "cell_type": "code",
   "execution_count": 16,
   "id": "b5763692-a390-4954-8cdb-a0dea1de139b",
   "metadata": {},
   "outputs": [
    {
     "data": {
      "application/vnd.jupyter.widget-view+json": {
       "model_id": "f0c2103d28c94f3a834072d0519e74cc",
       "version_major": 2,
       "version_minor": 0
      },
      "text/plain": [
       "Map (num_proc=4):   0%|          | 0/4631344 [00:00<?, ? examples/s]"
      ]
     },
     "metadata": {},
     "output_type": "display_data"
    }
   ],
   "source": [
    "new_ds = sds.map(extract_domain, num_proc=4)"
   ]
  },
  {
   "cell_type": "code",
   "execution_count": 17,
   "id": "8932f3df-c848-42e4-8a05-65b30b1c1b44",
   "metadata": {
    "scrolled": true
   },
   "outputs": [
    {
     "data": {
      "application/vnd.jupyter.widget-view+json": {
       "model_id": "975cec1ab40f4598837d726f8d28594c",
       "version_major": 2,
       "version_minor": 0
      },
      "text/plain": [
       "Map (num_proc=4):   0%|          | 0/4631344 [00:00<?, ? examples/s]"
      ]
     },
     "metadata": {},
     "output_type": "display_data"
    }
   ],
   "source": [
    "new_ds = new_ds.map(attrs_to_libs, num_proc=4)"
   ]
  },
  {
   "cell_type": "code",
   "execution_count": 18,
   "id": "ed9431f7-b8ed-43c1-8803-1bce22ca6e63",
   "metadata": {},
   "outputs": [],
   "source": [
    "# import pickle"
   ]
  },
  {
   "cell_type": "code",
   "execution_count": 19,
   "id": "32b43061-4507-4dda-b2c1-1fe00839ce8d",
   "metadata": {},
   "outputs": [],
   "source": [
    "# with open(\"new_ds.pkl\", 'wb') as f:\n",
    "#     pickle.dump(new_ds, f)"
   ]
  },
  {
   "cell_type": "code",
   "execution_count": 20,
   "id": "9d36a235-3a27-49e0-bdff-66be9e651662",
   "metadata": {},
   "outputs": [],
   "source": [
    "# with open(\"new_ds.pkl\", 'rb') as f:\n",
    "#     tds = pickle.load(f)"
   ]
  },
  {
   "cell_type": "code",
   "execution_count": 21,
   "id": "a0194f62-ef80-40a8-81bb-ea04cc2f919a",
   "metadata": {},
   "outputs": [],
   "source": [
    "df = new_ds.to_pandas()"
   ]
  },
  {
   "cell_type": "code",
   "execution_count": null,
   "id": "42501d85-34d7-4de5-97bc-e523b4096593",
   "metadata": {},
   "outputs": [],
   "source": []
  },
  {
   "cell_type": "code",
   "execution_count": 23,
   "id": "5d18caef-f208-4cd7-8174-01f2f34f9cce",
   "metadata": {},
   "outputs": [],
   "source": [
    "del new_ds"
   ]
  },
  {
   "cell_type": "code",
   "execution_count": 24,
   "id": "8553fb94-bb11-4155-b6d3-8bd637c997f6",
   "metadata": {},
   "outputs": [],
   "source": [
    "del sds"
   ]
  },
  {
   "cell_type": "code",
   "execution_count": 22,
   "id": "2fb63f12-826c-4dd1-93d0-3a33968b192e",
   "metadata": {},
   "outputs": [
    {
     "data": {
      "text/html": [
       "<div>\n",
       "<style scoped>\n",
       "    .dataframe tbody tr th:only-of-type {\n",
       "        vertical-align: middle;\n",
       "    }\n",
       "\n",
       "    .dataframe tbody tr th {\n",
       "        vertical-align: top;\n",
       "    }\n",
       "\n",
       "    .dataframe thead th {\n",
       "        text-align: right;\n",
       "    }\n",
       "</style>\n",
       "<table border=\"1\" class=\"dataframe\">\n",
       "  <thead>\n",
       "    <tr style=\"text-align: right;\">\n",
       "      <th></th>\n",
       "      <th>ip</th>\n",
       "      <th>host</th>\n",
       "      <th>server</th>\n",
       "      <th>script_src_attrs</th>\n",
       "      <th>year</th>\n",
       "      <th>domain</th>\n",
       "      <th>js_lib</th>\n",
       "    </tr>\n",
       "  </thead>\n",
       "  <tbody>\n",
       "    <tr>\n",
       "      <th>0</th>\n",
       "      <td>101.32.10.132</td>\n",
       "      <td>http://www.buyjia.net/company-guangdongzhongzh...</td>\n",
       "      <td>nginx/1.20.1</td>\n",
       "      <td>/js/jquery-3.1.1.min.js|/js/bootstrap.min.js</td>\n",
       "      <td>2024</td>\n",
       "      <td>www.buyjia.net</td>\n",
       "      <td>[jquery-3.1.1.js, bootstrap.js]</td>\n",
       "    </tr>\n",
       "    <tr>\n",
       "      <th>1</th>\n",
       "      <td>201.49.2.61</td>\n",
       "      <td>https://simoesfilho.ba.gov.br/simoes-filho-cam...</td>\n",
       "      <td>Apache</td>\n",
       "      <td>//www.googletagmanager.com/gtag/js?id=g-4cg97x...</td>\n",
       "      <td>2024</td>\n",
       "      <td>simoesfilho.ba.gov.br</td>\n",
       "      <td>[None, jquery.js, jquery-migrate.js, frontend-...</td>\n",
       "    </tr>\n",
       "    <tr>\n",
       "      <th>2</th>\n",
       "      <td>194.163.38.164</td>\n",
       "      <td>https://stalionelanka.com/management/</td>\n",
       "      <td>LiteSpeed</td>\n",
       "      <td>https://stalionelanka.com/wp-includes/js/jquer...</td>\n",
       "      <td>2024</td>\n",
       "      <td>stalionelanka.com</td>\n",
       "      <td>[jquery.js, jquery-migrate.js, layerslider.uti...</td>\n",
       "    </tr>\n",
       "    <tr>\n",
       "      <th>3</th>\n",
       "      <td>54.204.238.15</td>\n",
       "      <td>https://app.vagrantup.com/boxes/search?archite...</td>\n",
       "      <td>Cowboy</td>\n",
       "      <td>/assets/application-d926c034f15c2fb3f06276d6e7...</td>\n",
       "      <td>2024</td>\n",
       "      <td>app.vagrantup.com</td>\n",
       "      <td>[application-d926c034f15c2fb3f06276d6e7e132e6b...</td>\n",
       "    </tr>\n",
       "    <tr>\n",
       "      <th>4</th>\n",
       "      <td>185.220.174.17</td>\n",
       "      <td>https://sosstraling.nl/film-over-wally/</td>\n",
       "      <td>Apache/2</td>\n",
       "      <td>https://sosstraling.nl/wp-includes/js/jquery/j...</td>\n",
       "      <td>2024</td>\n",
       "      <td>sosstraling.nl</td>\n",
       "      <td>[jquery.js, jquery-migrate.js, avia-js.js, avi...</td>\n",
       "    </tr>\n",
       "  </tbody>\n",
       "</table>\n",
       "</div>"
      ],
      "text/plain": [
       "               ip                                               host  \\\n",
       "0   101.32.10.132  http://www.buyjia.net/company-guangdongzhongzh...   \n",
       "1     201.49.2.61  https://simoesfilho.ba.gov.br/simoes-filho-cam...   \n",
       "2  194.163.38.164              https://stalionelanka.com/management/   \n",
       "3   54.204.238.15  https://app.vagrantup.com/boxes/search?archite...   \n",
       "4  185.220.174.17            https://sosstraling.nl/film-over-wally/   \n",
       "\n",
       "         server                                   script_src_attrs  year  \\\n",
       "0  nginx/1.20.1       /js/jquery-3.1.1.min.js|/js/bootstrap.min.js  2024   \n",
       "1        Apache  //www.googletagmanager.com/gtag/js?id=g-4cg97x...  2024   \n",
       "2     LiteSpeed  https://stalionelanka.com/wp-includes/js/jquer...  2024   \n",
       "3        Cowboy  /assets/application-d926c034f15c2fb3f06276d6e7...  2024   \n",
       "4      Apache/2  https://sosstraling.nl/wp-includes/js/jquery/j...  2024   \n",
       "\n",
       "                  domain                                             js_lib  \n",
       "0         www.buyjia.net                    [jquery-3.1.1.js, bootstrap.js]  \n",
       "1  simoesfilho.ba.gov.br  [None, jquery.js, jquery-migrate.js, frontend-...  \n",
       "2      stalionelanka.com  [jquery.js, jquery-migrate.js, layerslider.uti...  \n",
       "3      app.vagrantup.com  [application-d926c034f15c2fb3f06276d6e7e132e6b...  \n",
       "4         sosstraling.nl  [jquery.js, jquery-migrate.js, avia-js.js, avi...  "
      ]
     },
     "execution_count": 22,
     "metadata": {},
     "output_type": "execute_result"
    }
   ],
   "source": [
    "df.head()"
   ]
  },
  {
   "cell_type": "code",
   "execution_count": 25,
   "id": "d4a0fe9d-2400-4aae-a9b1-46da1640d34a",
   "metadata": {},
   "outputs": [],
   "source": [
    "df = df.explode(\"js_lib\")"
   ]
  },
  {
   "cell_type": "code",
   "execution_count": 26,
   "id": "7d7e0a7e-00bd-4f25-a6b7-abd5a0cc3d63",
   "metadata": {},
   "outputs": [
    {
     "data": {
      "text/html": [
       "<div>\n",
       "<style scoped>\n",
       "    .dataframe tbody tr th:only-of-type {\n",
       "        vertical-align: middle;\n",
       "    }\n",
       "\n",
       "    .dataframe tbody tr th {\n",
       "        vertical-align: top;\n",
       "    }\n",
       "\n",
       "    .dataframe thead th {\n",
       "        text-align: right;\n",
       "    }\n",
       "</style>\n",
       "<table border=\"1\" class=\"dataframe\">\n",
       "  <thead>\n",
       "    <tr style=\"text-align: right;\">\n",
       "      <th></th>\n",
       "      <th>ip</th>\n",
       "      <th>host</th>\n",
       "      <th>server</th>\n",
       "      <th>script_src_attrs</th>\n",
       "      <th>year</th>\n",
       "      <th>domain</th>\n",
       "      <th>js_lib</th>\n",
       "    </tr>\n",
       "  </thead>\n",
       "  <tbody>\n",
       "    <tr>\n",
       "      <th>0</th>\n",
       "      <td>101.32.10.132</td>\n",
       "      <td>http://www.buyjia.net/company-guangdongzhongzh...</td>\n",
       "      <td>nginx/1.20.1</td>\n",
       "      <td>/js/jquery-3.1.1.min.js|/js/bootstrap.min.js</td>\n",
       "      <td>2024</td>\n",
       "      <td>www.buyjia.net</td>\n",
       "      <td>jquery-3.1.1.js</td>\n",
       "    </tr>\n",
       "    <tr>\n",
       "      <th>0</th>\n",
       "      <td>101.32.10.132</td>\n",
       "      <td>http://www.buyjia.net/company-guangdongzhongzh...</td>\n",
       "      <td>nginx/1.20.1</td>\n",
       "      <td>/js/jquery-3.1.1.min.js|/js/bootstrap.min.js</td>\n",
       "      <td>2024</td>\n",
       "      <td>www.buyjia.net</td>\n",
       "      <td>bootstrap.js</td>\n",
       "    </tr>\n",
       "    <tr>\n",
       "      <th>1</th>\n",
       "      <td>201.49.2.61</td>\n",
       "      <td>https://simoesfilho.ba.gov.br/simoes-filho-cam...</td>\n",
       "      <td>Apache</td>\n",
       "      <td>//www.googletagmanager.com/gtag/js?id=g-4cg97x...</td>\n",
       "      <td>2024</td>\n",
       "      <td>simoesfilho.ba.gov.br</td>\n",
       "      <td>None</td>\n",
       "    </tr>\n",
       "    <tr>\n",
       "      <th>1</th>\n",
       "      <td>201.49.2.61</td>\n",
       "      <td>https://simoesfilho.ba.gov.br/simoes-filho-cam...</td>\n",
       "      <td>Apache</td>\n",
       "      <td>//www.googletagmanager.com/gtag/js?id=g-4cg97x...</td>\n",
       "      <td>2024</td>\n",
       "      <td>simoesfilho.ba.gov.br</td>\n",
       "      <td>jquery.js</td>\n",
       "    </tr>\n",
       "    <tr>\n",
       "      <th>1</th>\n",
       "      <td>201.49.2.61</td>\n",
       "      <td>https://simoesfilho.ba.gov.br/simoes-filho-cam...</td>\n",
       "      <td>Apache</td>\n",
       "      <td>//www.googletagmanager.com/gtag/js?id=g-4cg97x...</td>\n",
       "      <td>2024</td>\n",
       "      <td>simoesfilho.ba.gov.br</td>\n",
       "      <td>jquery-migrate.js</td>\n",
       "    </tr>\n",
       "  </tbody>\n",
       "</table>\n",
       "</div>"
      ],
      "text/plain": [
       "              ip                                               host  \\\n",
       "0  101.32.10.132  http://www.buyjia.net/company-guangdongzhongzh...   \n",
       "0  101.32.10.132  http://www.buyjia.net/company-guangdongzhongzh...   \n",
       "1    201.49.2.61  https://simoesfilho.ba.gov.br/simoes-filho-cam...   \n",
       "1    201.49.2.61  https://simoesfilho.ba.gov.br/simoes-filho-cam...   \n",
       "1    201.49.2.61  https://simoesfilho.ba.gov.br/simoes-filho-cam...   \n",
       "\n",
       "         server                                   script_src_attrs  year  \\\n",
       "0  nginx/1.20.1       /js/jquery-3.1.1.min.js|/js/bootstrap.min.js  2024   \n",
       "0  nginx/1.20.1       /js/jquery-3.1.1.min.js|/js/bootstrap.min.js  2024   \n",
       "1        Apache  //www.googletagmanager.com/gtag/js?id=g-4cg97x...  2024   \n",
       "1        Apache  //www.googletagmanager.com/gtag/js?id=g-4cg97x...  2024   \n",
       "1        Apache  //www.googletagmanager.com/gtag/js?id=g-4cg97x...  2024   \n",
       "\n",
       "                  domain             js_lib  \n",
       "0         www.buyjia.net    jquery-3.1.1.js  \n",
       "0         www.buyjia.net       bootstrap.js  \n",
       "1  simoesfilho.ba.gov.br               None  \n",
       "1  simoesfilho.ba.gov.br          jquery.js  \n",
       "1  simoesfilho.ba.gov.br  jquery-migrate.js  "
      ]
     },
     "execution_count": 26,
     "metadata": {},
     "output_type": "execute_result"
    }
   ],
   "source": [
    "df.head()"
   ]
  },
  {
   "cell_type": "code",
   "execution_count": 28,
   "id": "f78f8416-410b-4720-b7aa-792df3a00757",
   "metadata": {},
   "outputs": [],
   "source": [
    "df.drop_duplicates(subset=[\"domain\", \"js_lib\"], inplace=True)"
   ]
  },
  {
   "cell_type": "code",
   "execution_count": 29,
   "id": "677b3b9e-5d13-4b1f-8251-38b943c53d1b",
   "metadata": {},
   "outputs": [
    {
     "data": {
      "text/html": [
       "<div>\n",
       "<style scoped>\n",
       "    .dataframe tbody tr th:only-of-type {\n",
       "        vertical-align: middle;\n",
       "    }\n",
       "\n",
       "    .dataframe tbody tr th {\n",
       "        vertical-align: top;\n",
       "    }\n",
       "\n",
       "    .dataframe thead th {\n",
       "        text-align: right;\n",
       "    }\n",
       "</style>\n",
       "<table border=\"1\" class=\"dataframe\">\n",
       "  <thead>\n",
       "    <tr style=\"text-align: right;\">\n",
       "      <th></th>\n",
       "      <th>ip</th>\n",
       "      <th>host</th>\n",
       "      <th>server</th>\n",
       "      <th>script_src_attrs</th>\n",
       "      <th>year</th>\n",
       "      <th>domain</th>\n",
       "      <th>js_lib</th>\n",
       "    </tr>\n",
       "  </thead>\n",
       "  <tbody>\n",
       "    <tr>\n",
       "      <th>0</th>\n",
       "      <td>101.32.10.132</td>\n",
       "      <td>http://www.buyjia.net/company-guangdongzhongzh...</td>\n",
       "      <td>nginx/1.20.1</td>\n",
       "      <td>/js/jquery-3.1.1.min.js|/js/bootstrap.min.js</td>\n",
       "      <td>2024</td>\n",
       "      <td>www.buyjia.net</td>\n",
       "      <td>jquery-3.1.1.js</td>\n",
       "    </tr>\n",
       "    <tr>\n",
       "      <th>0</th>\n",
       "      <td>101.32.10.132</td>\n",
       "      <td>http://www.buyjia.net/company-guangdongzhongzh...</td>\n",
       "      <td>nginx/1.20.1</td>\n",
       "      <td>/js/jquery-3.1.1.min.js|/js/bootstrap.min.js</td>\n",
       "      <td>2024</td>\n",
       "      <td>www.buyjia.net</td>\n",
       "      <td>bootstrap.js</td>\n",
       "    </tr>\n",
       "    <tr>\n",
       "      <th>1</th>\n",
       "      <td>201.49.2.61</td>\n",
       "      <td>https://simoesfilho.ba.gov.br/simoes-filho-cam...</td>\n",
       "      <td>Apache</td>\n",
       "      <td>//www.googletagmanager.com/gtag/js?id=g-4cg97x...</td>\n",
       "      <td>2024</td>\n",
       "      <td>simoesfilho.ba.gov.br</td>\n",
       "      <td>None</td>\n",
       "    </tr>\n",
       "    <tr>\n",
       "      <th>1</th>\n",
       "      <td>201.49.2.61</td>\n",
       "      <td>https://simoesfilho.ba.gov.br/simoes-filho-cam...</td>\n",
       "      <td>Apache</td>\n",
       "      <td>//www.googletagmanager.com/gtag/js?id=g-4cg97x...</td>\n",
       "      <td>2024</td>\n",
       "      <td>simoesfilho.ba.gov.br</td>\n",
       "      <td>jquery.js</td>\n",
       "    </tr>\n",
       "    <tr>\n",
       "      <th>1</th>\n",
       "      <td>201.49.2.61</td>\n",
       "      <td>https://simoesfilho.ba.gov.br/simoes-filho-cam...</td>\n",
       "      <td>Apache</td>\n",
       "      <td>//www.googletagmanager.com/gtag/js?id=g-4cg97x...</td>\n",
       "      <td>2024</td>\n",
       "      <td>simoesfilho.ba.gov.br</td>\n",
       "      <td>jquery-migrate.js</td>\n",
       "    </tr>\n",
       "  </tbody>\n",
       "</table>\n",
       "</div>"
      ],
      "text/plain": [
       "              ip                                               host  \\\n",
       "0  101.32.10.132  http://www.buyjia.net/company-guangdongzhongzh...   \n",
       "0  101.32.10.132  http://www.buyjia.net/company-guangdongzhongzh...   \n",
       "1    201.49.2.61  https://simoesfilho.ba.gov.br/simoes-filho-cam...   \n",
       "1    201.49.2.61  https://simoesfilho.ba.gov.br/simoes-filho-cam...   \n",
       "1    201.49.2.61  https://simoesfilho.ba.gov.br/simoes-filho-cam...   \n",
       "\n",
       "         server                                   script_src_attrs  year  \\\n",
       "0  nginx/1.20.1       /js/jquery-3.1.1.min.js|/js/bootstrap.min.js  2024   \n",
       "0  nginx/1.20.1       /js/jquery-3.1.1.min.js|/js/bootstrap.min.js  2024   \n",
       "1        Apache  //www.googletagmanager.com/gtag/js?id=g-4cg97x...  2024   \n",
       "1        Apache  //www.googletagmanager.com/gtag/js?id=g-4cg97x...  2024   \n",
       "1        Apache  //www.googletagmanager.com/gtag/js?id=g-4cg97x...  2024   \n",
       "\n",
       "                  domain             js_lib  \n",
       "0         www.buyjia.net    jquery-3.1.1.js  \n",
       "0         www.buyjia.net       bootstrap.js  \n",
       "1  simoesfilho.ba.gov.br               None  \n",
       "1  simoesfilho.ba.gov.br          jquery.js  \n",
       "1  simoesfilho.ba.gov.br  jquery-migrate.js  "
      ]
     },
     "execution_count": 29,
     "metadata": {},
     "output_type": "execute_result"
    }
   ],
   "source": [
    "df.head()"
   ]
  },
  {
   "cell_type": "code",
   "execution_count": 31,
   "id": "fba13277-480b-4ae4-8cbd-ebc9ffb444f5",
   "metadata": {},
   "outputs": [],
   "source": [
    "df.iloc[2][\"js_lib\"]"
   ]
  },
  {
   "cell_type": "code",
   "execution_count": 33,
   "id": "99f9475e-71c5-4b97-8483-2e5d008d158a",
   "metadata": {},
   "outputs": [],
   "source": [
    "filenames = [re.sub(r\"\\.min\\.\", '.', item['filename']) for item in matched]"
   ]
  },
  {
   "cell_type": "code",
   "execution_count": 42,
   "id": "8ca23408-1b87-462a-8ea1-cf4732106e09",
   "metadata": {},
   "outputs": [],
   "source": [
    "filenames.remove(\"crypto-js.js\")"
   ]
  },
  {
   "cell_type": "code",
   "execution_count": 43,
   "id": "ae5a7443-c042-4733-ac22-f27f89176372",
   "metadata": {},
   "outputs": [
    {
     "data": {
      "text/plain": [
       "['angular-recaptcha.js',\n",
       " 'asmcrypto.all.es5.js',\n",
       " 'purify.js',\n",
       " 'fingerprint2.js',\n",
       " 'jquery.complexify.js',\n",
       " 'jquery.hashcash.io.js',\n",
       " 'jquery.socialshareprivacy.js',\n",
       " 'sha1.js',\n",
       " 'sha256.js',\n",
       " 'sha512.js',\n",
       " 'xss.js',\n",
       " 'oauth.js',\n",
       " 'zxcvbn.js']"
      ]
     },
     "execution_count": 43,
     "metadata": {},
     "output_type": "execute_result"
    }
   ],
   "source": [
    "filenames"
   ]
  },
  {
   "cell_type": "code",
   "execution_count": null,
   "id": "36e8b29b-2b6b-494b-9b7d-411c65c1e309",
   "metadata": {},
   "outputs": [],
   "source": []
  },
  {
   "cell_type": "code",
   "execution_count": 35,
   "id": "7d113f04-9ab4-4826-bdaa-d741f077ecd4",
   "metadata": {},
   "outputs": [
    {
     "data": {
      "text/plain": [
       "Index(['ip', 'host', 'server', 'script_src_attrs', 'year', 'domain', 'js_lib'], dtype='object')"
      ]
     },
     "execution_count": 35,
     "metadata": {},
     "output_type": "execute_result"
    }
   ],
   "source": [
    "df.columns"
   ]
  },
  {
   "cell_type": "code",
   "execution_count": 44,
   "id": "d569c8a1-3fea-4268-8fe9-7a69bf3b8bc1",
   "metadata": {},
   "outputs": [],
   "source": [
    "filtered_df = df[df['js_lib'].isin(filenames)][['domain', 'js_lib']]"
   ]
  },
  {
   "cell_type": "code",
   "execution_count": 45,
   "id": "09f18674-c92f-45e3-8a99-c41885ab87b1",
   "metadata": {},
   "outputs": [
    {
     "data": {
      "text/html": [
       "<div>\n",
       "<style scoped>\n",
       "    .dataframe tbody tr th:only-of-type {\n",
       "        vertical-align: middle;\n",
       "    }\n",
       "\n",
       "    .dataframe tbody tr th {\n",
       "        vertical-align: top;\n",
       "    }\n",
       "\n",
       "    .dataframe thead th {\n",
       "        text-align: right;\n",
       "    }\n",
       "</style>\n",
       "<table border=\"1\" class=\"dataframe\">\n",
       "  <thead>\n",
       "    <tr style=\"text-align: right;\">\n",
       "      <th></th>\n",
       "      <th>domain</th>\n",
       "      <th>js_lib</th>\n",
       "    </tr>\n",
       "  </thead>\n",
       "  <tbody>\n",
       "    <tr>\n",
       "      <th>72</th>\n",
       "      <td>www.marshallcountydaily.com</td>\n",
       "      <td>fingerprint2.js</td>\n",
       "    </tr>\n",
       "    <tr>\n",
       "      <th>702</th>\n",
       "      <td>www.tekforums.net</td>\n",
       "      <td>sha1.js</td>\n",
       "    </tr>\n",
       "    <tr>\n",
       "      <th>883</th>\n",
       "      <td>openi.pcl.ac.cn</td>\n",
       "      <td>purify.js</td>\n",
       "    </tr>\n",
       "    <tr>\n",
       "      <th>1134</th>\n",
       "      <td>bucurestiulmeudrag.ro</td>\n",
       "      <td>fingerprint2.js</td>\n",
       "    </tr>\n",
       "    <tr>\n",
       "      <th>2045</th>\n",
       "      <td>www.bender.de</td>\n",
       "      <td>purify.js</td>\n",
       "    </tr>\n",
       "    <tr>\n",
       "      <th>2303</th>\n",
       "      <td>www.lestoilesdularge.com</td>\n",
       "      <td>fingerprint2.js</td>\n",
       "    </tr>\n",
       "    <tr>\n",
       "      <th>2516</th>\n",
       "      <td>www.index.hr</td>\n",
       "      <td>fingerprint2.js</td>\n",
       "    </tr>\n",
       "    <tr>\n",
       "      <th>2912</th>\n",
       "      <td>dreamcast.org.ru</td>\n",
       "      <td>sha1.js</td>\n",
       "    </tr>\n",
       "    <tr>\n",
       "      <th>2980</th>\n",
       "      <td>www.gemeinde-goeriach.at</td>\n",
       "      <td>jquery.socialshareprivacy.js</td>\n",
       "    </tr>\n",
       "    <tr>\n",
       "      <th>3152</th>\n",
       "      <td>forum.grsu.by</td>\n",
       "      <td>sha1.js</td>\n",
       "    </tr>\n",
       "    <tr>\n",
       "      <th>3558</th>\n",
       "      <td>www.hachi8.com.br</td>\n",
       "      <td>purify.js</td>\n",
       "    </tr>\n",
       "    <tr>\n",
       "      <th>4649</th>\n",
       "      <td>umweltportal.schleswig-holstein.de</td>\n",
       "      <td>zxcvbn.js</td>\n",
       "    </tr>\n",
       "    <tr>\n",
       "      <th>4927</th>\n",
       "      <td>synergiafoxy.com</td>\n",
       "      <td>sha1.js</td>\n",
       "    </tr>\n",
       "    <tr>\n",
       "      <th>5851</th>\n",
       "      <td>www.honor.com</td>\n",
       "      <td>xss.js</td>\n",
       "    </tr>\n",
       "    <tr>\n",
       "      <th>5910</th>\n",
       "      <td>fecredit.com.vn</td>\n",
       "      <td>sha256.js</td>\n",
       "    </tr>\n",
       "    <tr>\n",
       "      <th>7270</th>\n",
       "      <td>www.rn-vision-sts.com</td>\n",
       "      <td>purify.js</td>\n",
       "    </tr>\n",
       "    <tr>\n",
       "      <th>7600</th>\n",
       "      <td>lakes.duke-energy.com</td>\n",
       "      <td>angular-recaptcha.js</td>\n",
       "    </tr>\n",
       "    <tr>\n",
       "      <th>8157</th>\n",
       "      <td>vancouverisland.ctvnews.ca</td>\n",
       "      <td>sha256.js</td>\n",
       "    </tr>\n",
       "    <tr>\n",
       "      <th>8294</th>\n",
       "      <td>wamp.hu</td>\n",
       "      <td>purify.js</td>\n",
       "    </tr>\n",
       "    <tr>\n",
       "      <th>8436</th>\n",
       "      <td>www.cr-bericht.telekom.com</td>\n",
       "      <td>purify.js</td>\n",
       "    </tr>\n",
       "    <tr>\n",
       "      <th>8752</th>\n",
       "      <td>www.renodepot.com</td>\n",
       "      <td>purify.js</td>\n",
       "    </tr>\n",
       "    <tr>\n",
       "      <th>9702</th>\n",
       "      <td>forum.meteoclimatic.net</td>\n",
       "      <td>sha1.js</td>\n",
       "    </tr>\n",
       "    <tr>\n",
       "      <th>9755</th>\n",
       "      <td>www.smartbuyglasses.de</td>\n",
       "      <td>sha512.js</td>\n",
       "    </tr>\n",
       "    <tr>\n",
       "      <th>9855</th>\n",
       "      <td>bigpawsonly.com</td>\n",
       "      <td>sha1.js</td>\n",
       "    </tr>\n",
       "    <tr>\n",
       "      <th>11890</th>\n",
       "      <td>findingaids.library.dal.ca</td>\n",
       "      <td>sha256.js</td>\n",
       "    </tr>\n",
       "    <tr>\n",
       "      <th>11982</th>\n",
       "      <td>ussc.utah.gov</td>\n",
       "      <td>purify.js</td>\n",
       "    </tr>\n",
       "    <tr>\n",
       "      <th>13189</th>\n",
       "      <td>www.instaforex.com</td>\n",
       "      <td>fingerprint2.js</td>\n",
       "    </tr>\n",
       "    <tr>\n",
       "      <th>13210</th>\n",
       "      <td>regina.ctvnews.ca</td>\n",
       "      <td>sha256.js</td>\n",
       "    </tr>\n",
       "    <tr>\n",
       "      <th>13348</th>\n",
       "      <td>careers.acarasolutions.com</td>\n",
       "      <td>zxcvbn.js</td>\n",
       "    </tr>\n",
       "    <tr>\n",
       "      <th>14122</th>\n",
       "      <td>hosxp.net</td>\n",
       "      <td>sha1.js</td>\n",
       "    </tr>\n",
       "    <tr>\n",
       "      <th>14362</th>\n",
       "      <td>www.alkoven.at</td>\n",
       "      <td>jquery.socialshareprivacy.js</td>\n",
       "    </tr>\n",
       "    <tr>\n",
       "      <th>15291</th>\n",
       "      <td>shop.harveyssupermarkets.com</td>\n",
       "      <td>angular-recaptcha.js</td>\n",
       "    </tr>\n",
       "    <tr>\n",
       "      <th>15353</th>\n",
       "      <td>patikatt.hu</td>\n",
       "      <td>sha256.js</td>\n",
       "    </tr>\n",
       "    <tr>\n",
       "      <th>15554</th>\n",
       "      <td>hoidulich.com</td>\n",
       "      <td>sha1.js</td>\n",
       "    </tr>\n",
       "    <tr>\n",
       "      <th>15759</th>\n",
       "      <td>www.thatquailplace.com</td>\n",
       "      <td>sha1.js</td>\n",
       "    </tr>\n",
       "    <tr>\n",
       "      <th>15907</th>\n",
       "      <td>paragliding.in.ua</td>\n",
       "      <td>sha1.js</td>\n",
       "    </tr>\n",
       "    <tr>\n",
       "      <th>17846</th>\n",
       "      <td>www.mag.co.uk</td>\n",
       "      <td>purify.js</td>\n",
       "    </tr>\n",
       "    <tr>\n",
       "      <th>17870</th>\n",
       "      <td>forumdupeuple.com</td>\n",
       "      <td>sha1.js</td>\n",
       "    </tr>\n",
       "    <tr>\n",
       "      <th>18257</th>\n",
       "      <td>alysaarts.com</td>\n",
       "      <td>sha1.js</td>\n",
       "    </tr>\n",
       "    <tr>\n",
       "      <th>19212</th>\n",
       "      <td>www.appsapk.com</td>\n",
       "      <td>purify.js</td>\n",
       "    </tr>\n",
       "    <tr>\n",
       "      <th>19541</th>\n",
       "      <td>www.poytya.fi</td>\n",
       "      <td>sha1.js</td>\n",
       "    </tr>\n",
       "    <tr>\n",
       "      <th>19579</th>\n",
       "      <td>techcommunity.microsoft.com</td>\n",
       "      <td>purify.js</td>\n",
       "    </tr>\n",
       "    <tr>\n",
       "      <th>20028</th>\n",
       "      <td>forum.alexanderpalace.org</td>\n",
       "      <td>sha1.js</td>\n",
       "    </tr>\n",
       "    <tr>\n",
       "      <th>20194</th>\n",
       "      <td>www.hfunderground.com</td>\n",
       "      <td>sha1.js</td>\n",
       "    </tr>\n",
       "    <tr>\n",
       "      <th>21937</th>\n",
       "      <td>www.delandis.co.kr</td>\n",
       "      <td>sha256.js</td>\n",
       "    </tr>\n",
       "    <tr>\n",
       "      <th>22929</th>\n",
       "      <td>s.ch3plus.com</td>\n",
       "      <td>sha256.js</td>\n",
       "    </tr>\n",
       "    <tr>\n",
       "      <th>23173</th>\n",
       "      <td>www.sl113.org</td>\n",
       "      <td>sha1.js</td>\n",
       "    </tr>\n",
       "    <tr>\n",
       "      <th>23243</th>\n",
       "      <td>aroundsuannan.ssru.ac.th</td>\n",
       "      <td>sha1.js</td>\n",
       "    </tr>\n",
       "    <tr>\n",
       "      <th>23328</th>\n",
       "      <td>www.frankdoolittle.com</td>\n",
       "      <td>zxcvbn.js</td>\n",
       "    </tr>\n",
       "    <tr>\n",
       "      <th>24856</th>\n",
       "      <td>barrhavenford.com</td>\n",
       "      <td>sha256.js</td>\n",
       "    </tr>\n",
       "  </tbody>\n",
       "</table>\n",
       "</div>"
      ],
      "text/plain": [
       "                                   domain                        js_lib\n",
       "72            www.marshallcountydaily.com               fingerprint2.js\n",
       "702                     www.tekforums.net                       sha1.js\n",
       "883                       openi.pcl.ac.cn                     purify.js\n",
       "1134                bucurestiulmeudrag.ro               fingerprint2.js\n",
       "2045                        www.bender.de                     purify.js\n",
       "2303             www.lestoilesdularge.com               fingerprint2.js\n",
       "2516                         www.index.hr               fingerprint2.js\n",
       "2912                     dreamcast.org.ru                       sha1.js\n",
       "2980             www.gemeinde-goeriach.at  jquery.socialshareprivacy.js\n",
       "3152                        forum.grsu.by                       sha1.js\n",
       "3558                    www.hachi8.com.br                     purify.js\n",
       "4649   umweltportal.schleswig-holstein.de                     zxcvbn.js\n",
       "4927                     synergiafoxy.com                       sha1.js\n",
       "5851                        www.honor.com                        xss.js\n",
       "5910                      fecredit.com.vn                     sha256.js\n",
       "7270                www.rn-vision-sts.com                     purify.js\n",
       "7600                lakes.duke-energy.com          angular-recaptcha.js\n",
       "8157           vancouverisland.ctvnews.ca                     sha256.js\n",
       "8294                              wamp.hu                     purify.js\n",
       "8436           www.cr-bericht.telekom.com                     purify.js\n",
       "8752                    www.renodepot.com                     purify.js\n",
       "9702              forum.meteoclimatic.net                       sha1.js\n",
       "9755               www.smartbuyglasses.de                     sha512.js\n",
       "9855                      bigpawsonly.com                       sha1.js\n",
       "11890          findingaids.library.dal.ca                     sha256.js\n",
       "11982                       ussc.utah.gov                     purify.js\n",
       "13189                  www.instaforex.com               fingerprint2.js\n",
       "13210                   regina.ctvnews.ca                     sha256.js\n",
       "13348          careers.acarasolutions.com                     zxcvbn.js\n",
       "14122                           hosxp.net                       sha1.js\n",
       "14362                      www.alkoven.at  jquery.socialshareprivacy.js\n",
       "15291        shop.harveyssupermarkets.com          angular-recaptcha.js\n",
       "15353                         patikatt.hu                     sha256.js\n",
       "15554                       hoidulich.com                       sha1.js\n",
       "15759              www.thatquailplace.com                       sha1.js\n",
       "15907                   paragliding.in.ua                       sha1.js\n",
       "17846                       www.mag.co.uk                     purify.js\n",
       "17870                   forumdupeuple.com                       sha1.js\n",
       "18257                       alysaarts.com                       sha1.js\n",
       "19212                     www.appsapk.com                     purify.js\n",
       "19541                       www.poytya.fi                       sha1.js\n",
       "19579         techcommunity.microsoft.com                     purify.js\n",
       "20028           forum.alexanderpalace.org                       sha1.js\n",
       "20194               www.hfunderground.com                       sha1.js\n",
       "21937                  www.delandis.co.kr                     sha256.js\n",
       "22929                       s.ch3plus.com                     sha256.js\n",
       "23173                       www.sl113.org                       sha1.js\n",
       "23243            aroundsuannan.ssru.ac.th                       sha1.js\n",
       "23328              www.frankdoolittle.com                     zxcvbn.js\n",
       "24856                   barrhavenford.com                     sha256.js"
      ]
     },
     "execution_count": 45,
     "metadata": {},
     "output_type": "execute_result"
    }
   ],
   "source": [
    "filtered_df.head(n=50)"
   ]
  },
  {
   "cell_type": "code",
   "execution_count": 46,
   "id": "2f1112ed-9ea1-422f-97b8-68ebf353c4f2",
   "metadata": {},
   "outputs": [
    {
     "data": {
      "text/plain": [
       "5999"
      ]
     },
     "execution_count": 46,
     "metadata": {},
     "output_type": "execute_result"
    }
   ],
   "source": [
    "len(filtered_df)"
   ]
  },
  {
   "cell_type": "code",
   "execution_count": 48,
   "id": "1f9a398a-2f70-4d49-bce1-b0c5c26b3d7b",
   "metadata": {},
   "outputs": [],
   "source": [
    "filtered_df.to_csv(\"security_domains.csv\")"
   ]
  },
  {
   "cell_type": "code",
   "execution_count": null,
   "id": "bf3d98f9-ce1c-425c-8013-9508d9ac4e8e",
   "metadata": {},
   "outputs": [],
   "source": []
  }
 ],
 "metadata": {
  "kernelspec": {
   "display_name": "Python 3",
   "language": "python",
   "name": "python3"
  },
  "language_info": {
   "codemirror_mode": {
    "name": "ipython",
    "version": 3
   },
   "file_extension": ".py",
   "mimetype": "text/x-python",
   "name": "python",
   "nbconvert_exporter": "python",
   "pygments_lexer": "ipython3",
   "version": "3.10.10"
  }
 },
 "nbformat": 4,
 "nbformat_minor": 5
}
